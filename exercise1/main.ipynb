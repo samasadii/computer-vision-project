{
 "cells": [
  {
   "cell_type": "markdown",
   "metadata": {},
   "source": [
    "Importing Libraries"
   ]
  },
  {
   "cell_type": "code",
   "execution_count": 1,
   "metadata": {},
   "outputs": [
    {
     "name": "stderr",
     "output_type": "stream",
     "text": [
      "/var/folders/mm/zm2c4z0n06b2tq4zt0hs6sfc0000gn/T/ipykernel_97333/1796674642.py:4: DeprecationWarning: Please use `binary_closing` from the `scipy.ndimage` namespace, the `scipy.ndimage.morphology` namespace is deprecated.\n",
      "  from scipy.ndimage.morphology import binary_closing\n",
      "/var/folders/mm/zm2c4z0n06b2tq4zt0hs6sfc0000gn/T/ipykernel_97333/1796674642.py:5: DeprecationWarning: Please use `binary_opening` from the `scipy.ndimage` namespace, the `scipy.ndimage.morphology` namespace is deprecated.\n",
      "  from scipy.ndimage.morphology import binary_opening\n"
     ]
    }
   ],
   "source": [
    "import matplotlib.pyplot as plt\n",
    "from scipy.io import loadmat\n",
    "from mpl_toolkits.mplot3d import Axes3D\n",
    "from scipy.ndimage.morphology import binary_closing\n",
    "from scipy.ndimage.morphology import binary_opening\n",
    "import numpy as np\n",
    "import cv2"
   ]
  },
  {
   "cell_type": "markdown",
   "metadata": {},
   "source": [
    "Loading the data"
   ]
  },
  {
   "cell_type": "code",
   "execution_count": 18,
   "metadata": {},
   "outputs": [
    {
     "name": "stdout",
     "output_type": "stream",
     "text": [
      "dict_keys(['__header__', '__version__', '__globals__', 'amplitudes3', 'distances3', 'cloud3'])\n"
     ]
    }
   ],
   "source": [
    "# mat = loadmat('data/example1kinect.mat',  mdict=None, appendmat=True)\n",
    "# mat = loadmat('data/example2kinect.mat',  mdict=None, appendmat=True)\n",
    "mat = loadmat('data/example3kinect.mat',  mdict=None, appendmat=True)\n",
    "# mat = loadmat('data/example4kinect.mat',  mdict=None, appendmat=True)\n",
    "# mat = loadmat('data/example4kinect_corrected.mat',  mdict=None, appendmat=True)\n",
    "print(mat.keys())\n",
    "keys = list(mat.keys())"
   ]
  },
  {
   "cell_type": "code",
   "execution_count": 19,
   "metadata": {},
   "outputs": [
    {
     "data": {
      "text/plain": [
       "<matplotlib.image.AxesImage at 0x15f10dfc0>"
      ]
     },
     "execution_count": 19,
     "metadata": {},
     "output_type": "execute_result"
    },
    {
     "data": {
      "image/png": "[encoded data removed]",
      "text/plain": [
       "<Figure size 432x288 with 1 Axes>"
      ]
     },
     "metadata": {
      "needs_background": "light"
     },
     "output_type": "display_data"
    }
   ],
   "source": [
    "amplitude = mat[keys[3]]\n",
    "normalized_image = cv2.normalize(amplitude, None, 0, 255, cv2.NORM_MINMAX, dtype=cv2.CV_8U)\n",
    "\n",
    "ret,thresh1 = cv2.threshold(normalized_image,23,255,cv2.THRESH_BINARY)\n",
    "plt.imshow(thresh1, cmap='gray')\n",
    "closed_image = binary_closing(thresh1, iterations=4)\n",
    "plt.imshow(closed_image, cmap='gray')\n",
    "opened_image = binary_opening(closed_image, iterations=4)\n",
    "plt.imshow(opened_image, cmap='gray')"
   ]
  },
  {
   "cell_type": "markdown",
   "metadata": {},
   "source": [
    "Showing amplitude image"
   ]
  },
  {
   "cell_type": "code",
   "execution_count": null,
   "metadata": {},
   "outputs": [],
   "source": [
    "amplitude = mat[keys[3]]\n",
    "plt.imshow(amplitude)"
   ]
  },
  {
   "cell_type": "markdown",
   "metadata": {},
   "source": [
    "Showing distance image"
   ]
  },
  {
   "cell_type": "code",
   "execution_count": null,
   "metadata": {},
   "outputs": [],
   "source": [
    "distance = mat[keys[4]]\n",
    "plt.imshow(distance)"
   ]
  },
  {
   "cell_type": "markdown",
   "metadata": {},
   "source": [
    "Showing cloud image"
   ]
  },
  {
   "cell_type": "code",
   "execution_count": null,
   "metadata": {},
   "outputs": [],
   "source": [
    "cloud = mat[keys[5]]\n",
    "# plt.imshow(cloud)"
   ]
  },
  {
   "cell_type": "markdown",
   "metadata": {},
   "source": [
    "3D plot of Point Cloud"
   ]
  },
  {
   "cell_type": "code",
   "execution_count": null,
   "metadata": {},
   "outputs": [],
   "source": [
    "num_rows, num_cols, num_xyz = cloud.shape\n",
    "\n",
    "# Reshape the cloud values array to flatten the (x, y, z) coordinates\n",
    "cloud_values_flat = cloud.reshape((num_rows * num_cols, num_xyz))\n",
    "\n",
    "fig = plt.figure()\n",
    "ax = fig.add_subplot(111, projection='3d')\n",
    "\n",
    "# Plot the points\n",
    "ax.scatter(cloud_values_flat[:, 0], cloud_values_flat[:, 1], cloud_values_flat[:, 2], zdir='z')\n",
    "\n",
    "plt.show()"
   ]
  }
 ],
 "metadata": {
  "kernelspec": {
   "display_name": "Python 3",
   "language": "python",
   "name": "python3"
  },
  "language_info": {
   "codemirror_mode": {
    "name": "ipython",
    "version": 3
   },
   "file_extension": ".py",
   "mimetype": "text/x-python",
   "name": "python",
   "nbconvert_exporter": "python",
   "pygments_lexer": "ipython3",
   "version": "3.10.4"
  }
 },
 "nbformat": 4,
 "nbformat_minor": 2
}
